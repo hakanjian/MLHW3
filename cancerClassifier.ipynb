{
 "cells": [
  {
   "cell_type": "code",
   "execution_count": 2,
   "id": "996bb20d-b2ae-45be-b886-23662f2cb7ef",
   "metadata": {},
   "outputs": [],
   "source": [
    "import pandas as pd\n",
    "import numpy as np\n",
    "import matplotlib.pyplot as plt\n",
    "from sklearn.neighbors import KNeighborsClassifier\n",
    "from sklearn.metrics import classification_report\n",
    "from sklearn.metrics import accuracy_score\n",
    "from sklearn.model_selection import train_test_split\n",
    "from sklearn.metrics import confusion_matrix\n",
    "from sklearn.ensemble import RandomForestClassifier"
   ]
  },
  {
   "cell_type": "code",
   "execution_count": 3,
   "id": "83df24f5-3d86-414f-a8d5-7bfa20d06f1b",
   "metadata": {},
   "outputs": [
    {
     "name": "stdout",
     "output_type": "stream",
     "text": [
      "['Lung Squamous Cell Carcinoma', 'Pancreatic Adenocarcinoma', 'Kidney Renal Clear Cell Carcinoma', 'Uveal Melanoma', 'Breast Invasive Carcinoma', 'Lung Adenocarcinoma']\n"
     ]
    }
   ],
   "source": [
    "import os\n",
    "\n",
    "folder = 'data/'\n",
    "\n",
    "labels = [name for name in os.listdir(folder) if os.path.isdir(os.path.join(folder, name))]\n",
    "\n",
    "print(labels)\n"
   ]
  },
  {
   "cell_type": "code",
   "execution_count": 4,
   "id": "ee464fdf-b33f-4fdd-941d-5de49652dcce",
   "metadata": {},
   "outputs": [],
   "source": [
    "def retrieve_data(data_path, filenames):\n",
    "    list_of_dfs = []\n",
    "    for i in range(0, len(filenames)):\n",
    "        if ('annotations.txt' in filenames[i]):\n",
    "            break\n",
    "        inner_data_path = data_path + filenames[i]\n",
    "        df = pd.read_csv(inner_data_path, sep='\t', header=0)\n",
    "        df = df[['miRNA_ID','reads_per_million_miRNA_mapped']]\n",
    "        list_of_dfs.append(df)\n",
    "    return list_of_dfs\n",
    "    "
   ]
  },
  {
   "cell_type": "code",
   "execution_count": 5,
   "id": "19b638a7-8bbb-4b69-be9e-d5451d4bfc44",
   "metadata": {},
   "outputs": [],
   "source": [
    "def make_df(list_of_dfs, cancer_type):\n",
    "    data = [] \n",
    "    labels = list_of_dfs[0]['miRNA_ID']\n",
    "    for df in list_of_dfs:\n",
    "        data.append(df['reads_per_million_miRNA_mapped'])\n",
    "\n",
    "    big_df = pd.DataFrame(data)\n",
    "    big_df.columns = labels\n",
    "    big_df = big_df.reset_index(drop=True)\n",
    "    big_df['diagnosis'] = cancer_type\n",
    "    #big_df.rename(columns = {'miRNA_ID':'Index'}, inplace = True)\n",
    "    \n",
    "    return big_df"
   ]
  },
  {
   "cell_type": "code",
   "execution_count": 6,
   "id": "502ab105-9b8c-486d-8cb4-e31f493fe764",
   "metadata": {
    "tags": []
   },
   "outputs": [],
   "source": [
    "dp = 'data/Breast Invasive Carcinoma/MANIFEST.txt'\n",
    "df = pd.read_csv(dp, sep='\t', header=0)\n",
    "filenames = df['filename']\n",
    "breast = retrieve_data('data/Breast Invasive Carcinoma/', filenames)"
   ]
  },
  {
   "cell_type": "code",
   "execution_count": 7,
   "id": "2d7e1480-7c80-4e6d-b6e6-3ca917af5507",
   "metadata": {},
   "outputs": [],
   "source": [
    "def create_data_frame(labels):\n",
    "    list_of_dfs = []\n",
    "    for name in labels:\n",
    "        dp = 'data/' + name + '/'\n",
    "        df = pd.read_csv(dp + 'MANIFEST.txt', sep='\t', header=0)\n",
    "        filenames = df['filename']\n",
    "        retrieve = retrieve_data(dp, filenames)\n",
    "        new_df = make_df(retrieve, name)\n",
    "        list_of_dfs.append(new_df)\n",
    "    final_df = pd.concat(list_of_dfs)\n",
    "    return final_df"
   ]
  },
  {
   "cell_type": "markdown",
   "id": "3ea77059-d4e4-4fb5-9a8a-a8ba903521cb",
   "metadata": {},
   "source": [
    "create_data_frame() brings everything together and returns a final data frame with all of the types of cancer included."
   ]
  },
  {
   "cell_type": "markdown",
   "id": "aa0f041e-8cc6-4d86-a231-4ea373c314e8",
   "metadata": {},
   "source": [
    "Add label column for each based on which folder they came from, we need to take each df and transpose it so that each df is a row with a label"
   ]
  },
  {
   "cell_type": "code",
   "execution_count": 8,
   "id": "667025fd-6124-447c-824c-580549d03476",
   "metadata": {
    "tags": []
   },
   "outputs": [
    {
     "data": {
      "text/html": [
       "<div>\n",
       "<style scoped>\n",
       "    .dataframe tbody tr th:only-of-type {\n",
       "        vertical-align: middle;\n",
       "    }\n",
       "\n",
       "    .dataframe tbody tr th {\n",
       "        vertical-align: top;\n",
       "    }\n",
       "\n",
       "    .dataframe thead th {\n",
       "        text-align: right;\n",
       "    }\n",
       "</style>\n",
       "<table border=\"1\" class=\"dataframe\">\n",
       "  <thead>\n",
       "    <tr style=\"text-align: right;\">\n",
       "      <th>miRNA_ID</th>\n",
       "      <th>hsa-let-7a-1</th>\n",
       "      <th>hsa-let-7a-2</th>\n",
       "      <th>hsa-let-7a-3</th>\n",
       "      <th>hsa-let-7b</th>\n",
       "      <th>hsa-let-7c</th>\n",
       "      <th>hsa-let-7d</th>\n",
       "      <th>hsa-let-7e</th>\n",
       "      <th>hsa-let-7f-1</th>\n",
       "      <th>hsa-let-7f-2</th>\n",
       "      <th>hsa-let-7g</th>\n",
       "      <th>...</th>\n",
       "      <th>hsa-mir-942</th>\n",
       "      <th>hsa-mir-943</th>\n",
       "      <th>hsa-mir-944</th>\n",
       "      <th>hsa-mir-95</th>\n",
       "      <th>hsa-mir-9500</th>\n",
       "      <th>hsa-mir-96</th>\n",
       "      <th>hsa-mir-98</th>\n",
       "      <th>hsa-mir-99a</th>\n",
       "      <th>hsa-mir-99b</th>\n",
       "      <th>diagnosis</th>\n",
       "    </tr>\n",
       "  </thead>\n",
       "  <tbody>\n",
       "    <tr>\n",
       "      <th>0</th>\n",
       "      <td>9337.616622</td>\n",
       "      <td>9138.715586</td>\n",
       "      <td>9344.771335</td>\n",
       "      <td>31965.113617</td>\n",
       "      <td>1151.908878</td>\n",
       "      <td>606.004236</td>\n",
       "      <td>538.749928</td>\n",
       "      <td>2435.464484</td>\n",
       "      <td>2375.364890</td>\n",
       "      <td>713.324938</td>\n",
       "      <td>...</td>\n",
       "      <td>7.870185</td>\n",
       "      <td>0.000000</td>\n",
       "      <td>132.362200</td>\n",
       "      <td>11.447542</td>\n",
       "      <td>0.0</td>\n",
       "      <td>8.585656</td>\n",
       "      <td>66.538836</td>\n",
       "      <td>286.188541</td>\n",
       "      <td>10480.224372</td>\n",
       "      <td>Lung Squamous Cell Carcinoma</td>\n",
       "    </tr>\n",
       "    <tr>\n",
       "      <th>1</th>\n",
       "      <td>9197.286767</td>\n",
       "      <td>9285.825906</td>\n",
       "      <td>9305.312083</td>\n",
       "      <td>15457.836262</td>\n",
       "      <td>1602.407054</td>\n",
       "      <td>307.805936</td>\n",
       "      <td>1449.544610</td>\n",
       "      <td>6487.383740</td>\n",
       "      <td>6523.707489</td>\n",
       "      <td>610.693031</td>\n",
       "      <td>...</td>\n",
       "      <td>15.134895</td>\n",
       "      <td>0.189186</td>\n",
       "      <td>49.566783</td>\n",
       "      <td>4.351282</td>\n",
       "      <td>0.0</td>\n",
       "      <td>21.188854</td>\n",
       "      <td>49.755969</td>\n",
       "      <td>276.779400</td>\n",
       "      <td>38726.413684</td>\n",
       "      <td>Lung Squamous Cell Carcinoma</td>\n",
       "    </tr>\n",
       "    <tr>\n",
       "      <th>2</th>\n",
       "      <td>6494.512652</td>\n",
       "      <td>6466.129570</td>\n",
       "      <td>6593.853441</td>\n",
       "      <td>16025.435876</td>\n",
       "      <td>552.601237</td>\n",
       "      <td>437.331168</td>\n",
       "      <td>554.918223</td>\n",
       "      <td>1990.001625</td>\n",
       "      <td>2008.247892</td>\n",
       "      <td>300.049728</td>\n",
       "      <td>...</td>\n",
       "      <td>18.825514</td>\n",
       "      <td>0.000000</td>\n",
       "      <td>207.659899</td>\n",
       "      <td>4.923596</td>\n",
       "      <td>0.0</td>\n",
       "      <td>13.322671</td>\n",
       "      <td>49.235959</td>\n",
       "      <td>148.287124</td>\n",
       "      <td>16656.525024</td>\n",
       "      <td>Lung Squamous Cell Carcinoma</td>\n",
       "    </tr>\n",
       "    <tr>\n",
       "      <th>3</th>\n",
       "      <td>8143.014860</td>\n",
       "      <td>8138.517821</td>\n",
       "      <td>8146.387640</td>\n",
       "      <td>33502.946685</td>\n",
       "      <td>1621.182856</td>\n",
       "      <td>1485.147402</td>\n",
       "      <td>845.443487</td>\n",
       "      <td>3048.993000</td>\n",
       "      <td>3046.744480</td>\n",
       "      <td>364.260226</td>\n",
       "      <td>...</td>\n",
       "      <td>32.603539</td>\n",
       "      <td>0.000000</td>\n",
       "      <td>256.331270</td>\n",
       "      <td>0.000000</td>\n",
       "      <td>0.0</td>\n",
       "      <td>16.863899</td>\n",
       "      <td>74.201157</td>\n",
       "      <td>617.218716</td>\n",
       "      <td>36108.981263</td>\n",
       "      <td>Lung Squamous Cell Carcinoma</td>\n",
       "    </tr>\n",
       "    <tr>\n",
       "      <th>4</th>\n",
       "      <td>9644.895834</td>\n",
       "      <td>9677.261256</td>\n",
       "      <td>9761.719596</td>\n",
       "      <td>9897.346128</td>\n",
       "      <td>944.145604</td>\n",
       "      <td>442.019195</td>\n",
       "      <td>659.329888</td>\n",
       "      <td>4091.605858</td>\n",
       "      <td>4252.508243</td>\n",
       "      <td>684.605741</td>\n",
       "      <td>...</td>\n",
       "      <td>8.939021</td>\n",
       "      <td>0.000000</td>\n",
       "      <td>99.562204</td>\n",
       "      <td>0.308242</td>\n",
       "      <td>0.0</td>\n",
       "      <td>30.824212</td>\n",
       "      <td>55.483581</td>\n",
       "      <td>233.955767</td>\n",
       "      <td>10677.815168</td>\n",
       "      <td>Lung Squamous Cell Carcinoma</td>\n",
       "    </tr>\n",
       "  </tbody>\n",
       "</table>\n",
       "<p>5 rows × 1882 columns</p>\n",
       "</div>"
      ],
      "text/plain": [
       "miRNA_ID  hsa-let-7a-1  hsa-let-7a-2  hsa-let-7a-3    hsa-let-7b   hsa-let-7c  \\\n",
       "0          9337.616622   9138.715586   9344.771335  31965.113617  1151.908878   \n",
       "1          9197.286767   9285.825906   9305.312083  15457.836262  1602.407054   \n",
       "2          6494.512652   6466.129570   6593.853441  16025.435876   552.601237   \n",
       "3          8143.014860   8138.517821   8146.387640  33502.946685  1621.182856   \n",
       "4          9644.895834   9677.261256   9761.719596   9897.346128   944.145604   \n",
       "\n",
       "miRNA_ID   hsa-let-7d   hsa-let-7e  hsa-let-7f-1  hsa-let-7f-2  hsa-let-7g  \\\n",
       "0          606.004236   538.749928   2435.464484   2375.364890  713.324938   \n",
       "1          307.805936  1449.544610   6487.383740   6523.707489  610.693031   \n",
       "2          437.331168   554.918223   1990.001625   2008.247892  300.049728   \n",
       "3         1485.147402   845.443487   3048.993000   3046.744480  364.260226   \n",
       "4          442.019195   659.329888   4091.605858   4252.508243  684.605741   \n",
       "\n",
       "miRNA_ID  ...  hsa-mir-942  hsa-mir-943  hsa-mir-944  hsa-mir-95  \\\n",
       "0         ...     7.870185     0.000000   132.362200   11.447542   \n",
       "1         ...    15.134895     0.189186    49.566783    4.351282   \n",
       "2         ...    18.825514     0.000000   207.659899    4.923596   \n",
       "3         ...    32.603539     0.000000   256.331270    0.000000   \n",
       "4         ...     8.939021     0.000000    99.562204    0.308242   \n",
       "\n",
       "miRNA_ID  hsa-mir-9500  hsa-mir-96  hsa-mir-98  hsa-mir-99a   hsa-mir-99b  \\\n",
       "0                  0.0    8.585656   66.538836   286.188541  10480.224372   \n",
       "1                  0.0   21.188854   49.755969   276.779400  38726.413684   \n",
       "2                  0.0   13.322671   49.235959   148.287124  16656.525024   \n",
       "3                  0.0   16.863899   74.201157   617.218716  36108.981263   \n",
       "4                  0.0   30.824212   55.483581   233.955767  10677.815168   \n",
       "\n",
       "miRNA_ID                     diagnosis  \n",
       "0         Lung Squamous Cell Carcinoma  \n",
       "1         Lung Squamous Cell Carcinoma  \n",
       "2         Lung Squamous Cell Carcinoma  \n",
       "3         Lung Squamous Cell Carcinoma  \n",
       "4         Lung Squamous Cell Carcinoma  \n",
       "\n",
       "[5 rows x 1882 columns]"
      ]
     },
     "execution_count": 8,
     "metadata": {},
     "output_type": "execute_result"
    }
   ],
   "source": [
    "big_list = create_data_frame(labels)\n",
    "big_list.head()"
   ]
  },
  {
   "cell_type": "code",
   "execution_count": 9,
   "id": "a1ea0dec-95a8-4b80-9e79-57f8a5e00592",
   "metadata": {},
   "outputs": [
    {
     "data": {
      "text/plain": [
       "Lung Squamous Cell Carcinoma          478\n",
       "Pancreatic Adenocarcinoma             178\n",
       "Kidney Renal Clear Cell Carcinoma     544\n",
       "Uveal Melanoma                         80\n",
       "Breast Invasive Carcinoma            1096\n",
       "Lung Adenocarcinoma                   519\n",
       "Name: diagnosis, dtype: int64"
      ]
     },
     "execution_count": 9,
     "metadata": {},
     "output_type": "execute_result"
    }
   ],
   "source": [
    "#Finding how balanced the data is\n",
    "counts = big_list['diagnosis'].value_counts(sort=False)\n",
    "counts"
   ]
  },
  {
   "cell_type": "code",
   "execution_count": 10,
   "id": "a28a8806-66e8-43df-b945-e68305a59ac1",
   "metadata": {},
   "outputs": [
    {
     "data": {
      "image/png": "[encoded data removed]",
      "text/plain": [
       "<Figure size 432x288 with 1 Axes>"
      ]
     },
     "metadata": {
      "needs_background": "light"
     },
     "output_type": "display_data"
    }
   ],
   "source": [
    "#Printing the graph\n",
    "X_axis = np.arange(len(labels))\n",
    "  \n",
    "plt.bar(X_axis, counts, .5)\n",
    "  \n",
    "plt.xticks(X_axis, [1,2,3,4,5,6])\n",
    "plt.xlabel(\"Cancer Type\")\n",
    "plt.ylabel(\"Samples\")\n",
    "plt.title(\"Distribution of Samples\")\n",
    "\n",
    "plt.show()"
   ]
  },
  {
   "cell_type": "code",
   "execution_count": 11,
   "id": "96c7d7a4-26e0-48eb-8adf-0ec375291252",
   "metadata": {},
   "outputs": [],
   "source": [
    "def double_check(data_frames):\n",
    "    for df in data_frames:\n",
    "        if (data_frames[0]['miRNA_ID'].equals(df['miRNA_ID']) == False):\n",
    "            return False\n",
    "    return True"
   ]
  },
  {
   "cell_type": "code",
   "execution_count": 12,
   "id": "ae6c7752-ff0f-4e8c-8e56-a96c27715150",
   "metadata": {},
   "outputs": [],
   "source": [
    "#implementation of the scikit k-nearest neighbors\n",
    "\n",
    "big_list = big_list.fillna(0)\n",
    "\n",
    "features = big_list.drop(\"diagnosis\", axis='columns')\n",
    "targets = big_list['diagnosis']\n",
    "\n",
    "features_norm = (features-features.min())/(features.max()-features.min())\n",
    "features_norm = features_norm.fillna(0)"
   ]
  },
  {
   "cell_type": "code",
   "execution_count": 13,
   "id": "27a33119-50b2-40d9-bf2a-35b85d39060c",
   "metadata": {},
   "outputs": [
    {
     "name": "stdout",
     "output_type": "stream",
     "text": [
      "0.8626943005181347\n",
      "[[395   2  18   7   3   0]\n",
      " [  9 198   0   0   0   0]\n",
      " [ 26   0 139  15  24   0]\n",
      " [ 20   0  20 156   8   0]\n",
      " [  3   0   2   0  74   0]\n",
      " [  1   0   0   1   0  37]]\n"
     ]
    }
   ],
   "source": [
    "X_train, X_test, y_train, y_test = train_test_split(features_norm, targets, test_size=0.4, random_state=42)\n",
    "#KNN\n",
    "neigh = KNeighborsClassifier(n_neighbors=5)\n",
    "\n",
    "neigh.fit(X_train, y_train)\n",
    "\n",
    "preds1 = neigh.predict(X_test)\n",
    "\n",
    "print(accuracy_score(y_test, preds1))\n",
    "print(confusion_matrix(y_test, preds1))"
   ]
  },
  {
   "cell_type": "code",
   "execution_count": 14,
   "id": "4789d66a-238b-4bb0-8f12-4860c43068b9",
   "metadata": {},
   "outputs": [
    {
     "name": "stdout",
     "output_type": "stream",
     "text": [
      "0.9689119170984456\n",
      "[[424   0   0   1   0   0]\n",
      " [  1 206   0   0   0   0]\n",
      " [  6   0 194   4   0   0]\n",
      " [  4   0  13 187   0   0]\n",
      " [  1   1   4   0  73   0]\n",
      " [  1   0   0   0   0  38]]\n"
     ]
    }
   ],
   "source": [
    "#RFC\n",
    "clf = RandomForestClassifier(max_depth=None, random_state=0)\n",
    "clf.fit(X_train, y_train)\n",
    "preds2 = clf.predict(X_test)\n",
    "print(accuracy_score(y_test, preds2))\n",
    "\n",
    "print(confusion_matrix(y_test, preds2))"
   ]
  },
  {
   "cell_type": "code",
   "execution_count": 15,
   "id": "37efb970-65ce-47e4-9bb3-fa057a2cdbdf",
   "metadata": {},
   "outputs": [
    {
     "name": "stdout",
     "output_type": "stream",
     "text": [
      "Accuracy of KNN Models: [0.8411053540587219, 0.8523316062176166, 0.8626943005181347, 0.8583765112262521, 0.8540587219343696, 0.8514680483592401, 0.8488773747841105, 0.844559585492228, 0.8471502590673575, 0.8411053540587219, 0.8376511226252159, 0.8341968911917098, 0.8324697754749568, 0.8281519861830743, 0.8221070811744386, 0.8212435233160622, 0.812607944732297]\n"
     ]
    },
    {
     "data": {
      "image/png": "[encoded data removed]",
      "text/plain": [
       "<Figure size 432x288 with 1 Axes>"
      ]
     },
     "metadata": {
      "needs_background": "light"
     },
     "output_type": "display_data"
    }
   ],
   "source": [
    "scores = []\n",
    "for k in range(1,35,2):\n",
    "    neigh = KNeighborsClassifier(n_neighbors=k)\n",
    "    neigh.fit(X_train, y_train)\n",
    "    preds = neigh.predict(X_test)\n",
    "    scores.append(accuracy_score(y_test, preds))\n",
    "\n",
    "plt.xlabel('K Values')\n",
    "plt.ylabel('Accuracy')\n",
    "plt.title('Cancer Classification KNN Model')\n",
    "plt.plot(np.arange(1,35,2),scores, \"o-\")\n",
    "print(\"Accuracy of KNN Models:\", scores)"
   ]
  },
  {
   "cell_type": "code",
   "execution_count": 20,
   "id": "4d5b5165-4a57-4d0e-9146-33ef335014b9",
   "metadata": {},
   "outputs": [
    {
     "data": {
      "text/plain": [
       "0.9689119170984456"
      ]
     },
     "execution_count": 20,
     "metadata": {},
     "output_type": "execute_result"
    }
   ],
   "source": [
    "from sklearn.svm import LinearSVC, SVC\n",
    "#why does this work, because there are a large number of features and a moderate number of examples so no\n",
    "# real need to increase the complexity, can be accomplished linearly?\n",
    "svc = LinearSVC()\n",
    "svc.fit(X_train, y_train)\n",
    "svc.score(X_test, y_test)"
   ]
  },
  {
   "cell_type": "code",
   "execution_count": 17,
   "id": "39d94ff4-706a-4476-b0a6-f4460f5b1ed6",
   "metadata": {},
   "outputs": [
    {
     "data": {
      "text/plain": [
       "0.966321243523316"
      ]
     },
     "execution_count": 17,
     "metadata": {},
     "output_type": "execute_result"
    }
   ],
   "source": [
    "from sklearn.linear_model import LogisticRegression\n",
    "logReg = LogisticRegression(random_state=0).fit(X_train, y_train)\n",
    "logReg.score(X_test, y_test)"
   ]
  },
  {
   "cell_type": "code",
   "execution_count": null,
   "id": "7cad077e-3571-4594-9e89-64bef5caeeda",
   "metadata": {},
   "outputs": [],
   "source": []
  }
 ],
 "metadata": {
  "kernelspec": {
   "display_name": "Python 3.8",
   "language": "python",
   "name": "python3"
  },
  "language_info": {
   "codemirror_mode": {
    "name": "ipython",
    "version": 3
   },
   "file_extension": ".py",
   "mimetype": "text/x-python",
   "name": "python",
   "nbconvert_exporter": "python",
   "pygments_lexer": "ipython3",
   "version": "3.8.6"
  }
 },
 "nbformat": 4,
 "nbformat_minor": 5
}
